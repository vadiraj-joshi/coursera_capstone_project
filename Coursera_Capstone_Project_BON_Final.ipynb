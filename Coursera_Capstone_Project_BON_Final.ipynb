{
    "nbformat_minor": 1, 
    "cells": [
        {
            "source": "# Data Science Capstone Project", 
            "cell_type": "markdown", 
            "metadata": {
                "collapsed": true
            }
        }, 
        {
            "source": "### Battle of the Neighborhoods: Real Estate Advisor", 
            "cell_type": "markdown", 
            "metadata": {}
        }, 
        {
            "source": "**_Vadiraj Joshi_**", 
            "cell_type": "markdown", 
            "metadata": {}
        }, 
        {
            "source": "## **Contents**", 
            "cell_type": "markdown", 
            "metadata": {}
        }, 
        {
            "source": "* Introduction/Business Problem\n* Data\n* Report", 
            "cell_type": "markdown", 
            "metadata": {}
        }, 
        {
            "source": "### Introduction / Business Problem", 
            "cell_type": "markdown", 
            "metadata": {}
        }, 
        {
            "source": "Location, Location and Location! It is what matters most when a startup is looking up to setup a new office location or restaurateurs or fast food giants like dominos, KFC zooming in for nice spot or an ice cream shop like corner house in busy junction. \n\nIn this project, we will try to build a feature for recommendation engine which might be used by realtor for their web portal and also mobile platform to send personalized recommendations to its subscribers. It could be self trained bot / personal assist with realtor features which specializes in showing personalized recommendations based on individuals preferences as everyone\u2019s requirements are not the same. Let\u2019s illustrate with an use case.\n\nUse Case:-\nA startup company is expanding and hunting for next business capital. As a result, an executive of their company is looking for new location in near by\u2026 During lunch, he\u2019ll simply open his/her personal assist on mobile phone and type in suggest me best place near Seattle. \nJust to get main ingredient of the recipe and not all steps. We presume that, advisor has already finalized Bellevue as the destination. Let\u2019s checkout if the advisor is going to give best options.\n\nIs it the booming businesses? The good food? The top-rated schools? The diversity?\n", 
            "cell_type": "markdown", 
            "metadata": {}
        }, 
        {
            "source": "### Data", 
            "cell_type": "markdown", 
            "metadata": {}
        }, 
        {
            "source": "Now that we have understood the business requirements. It is time to analyze and gather data for it. We have collected data from various govt portals - https://www5.kingcounty.gov and https://planning.bellevuewa.gov/community-development/neighborhoods\nOnce we collected the required data, next step is preparation and understand it better by applying normalization techniques - Getting rid of null values, duplicate rows, data wrangling and formatting the data (Standardization)\nAfter the data is standardized the qualified data is ready to be processed. We will query for each of their geo locations using geocoder library and venues from FSQ\n        ", 
            "cell_type": "markdown", 
            "metadata": {}
        }, 
        {
            "source": "### Report", 
            "cell_type": "markdown", 
            "metadata": {}
        }, 
        {
            "source": "This is in progress", 
            "cell_type": "markdown", 
            "metadata": {}
        }, 
        {
            "execution_count": null, 
            "cell_type": "code", 
            "metadata": {}, 
            "outputs": [], 
            "source": ""
        }
    ], 
    "metadata": {
        "kernelspec": {
            "display_name": "Python 3.5", 
            "name": "python3", 
            "language": "python"
        }, 
        "language_info": {
            "mimetype": "text/x-python", 
            "nbconvert_exporter": "python", 
            "version": "3.5.5", 
            "name": "python", 
            "file_extension": ".py", 
            "pygments_lexer": "ipython3", 
            "codemirror_mode": {
                "version": 3, 
                "name": "ipython"
            }
        }
    }, 
    "nbformat": 4
}